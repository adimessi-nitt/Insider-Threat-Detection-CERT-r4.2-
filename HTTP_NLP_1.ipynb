{
 "cells": [
  {
   "cell_type": "code",
   "execution_count": 1,
   "id": "16f96862-1458-4f79-a4e8-d77c3c2aed90",
   "metadata": {},
   "outputs": [],
   "source": [
    "import numpy as np\n",
    "import pandas as pd\n",
    "import matplotlib.pyplot as plt"
   ]
  },
  {
   "cell_type": "code",
   "execution_count": null,
   "id": "c42bd026-48f6-4c2f-8b8d-4e7a3ed82333",
   "metadata": {},
   "outputs": [],
   "source": [
    "file_path = '/content/drive/MyDrive/Adi-Cert-4.2/http.csv'\n",
    "chunk_size = 10000\n",
    "for chunk in pd.read_csv(file_path, chunksize=chunk_size):\n",
    "    malicious_http = chunk\n",
    "    break\n",
    "\n",
    "malicious_http.head()"
   ]
  },
  {
   "cell_type": "code",
   "execution_count": null,
   "id": "6fc3bbea-d9d6-4853-8f06-1901784a7102",
   "metadata": {},
   "outputs": [],
   "source": [
    "content = malicious_http['content']\n",
    "content.head()"
   ]
  },
  {
   "cell_type": "code",
   "execution_count": null,
   "id": "68804242-ec49-4e78-94c0-313a576a68ae",
   "metadata": {},
   "outputs": [],
   "source": [
    "url_df = malicious_http['url']\n",
    "url_df.head()"
   ]
  },
  {
   "cell_type": "code",
   "execution_count": null,
   "id": "dd895d11-eb4b-4a54-b44d-a19cc86ed0ed",
   "metadata": {},
   "outputs": [],
   "source": [
    "import urllib.parse\n",
    "\n",
    "def tokenize_url(url):\n",
    "    parsed = urllib.parse.urlparse(url)\n",
    "    path_tokens = parsed.path.strip('/').split('/')\n",
    "    netloc_tokens = parsed.netloc.split('.')\n",
    "    return path_tokens + netloc_tokens"
   ]
  },
  {
   "cell_type": "code",
   "execution_count": null,
   "id": "a627018b-af42-4a99-a9e4-d9a16d5d7ac2",
   "metadata": {},
   "outputs": [],
   "source": [
    "malicious_http['tokenized_url'] = malicious_http['url'].apply(tokenize_url)"
   ]
  },
  {
   "cell_type": "code",
   "execution_count": null,
   "id": "d9e95999-bdcf-4244-8860-ed2878c55c9c",
   "metadata": {},
   "outputs": [],
   "source": [
    "from sklearn.feature_extraction.text import TfidfVectorizer\n",
    "\n",
    "vectorizer = TfidfVectorizer()\n",
    "tfidf_matrix = vectorizer.fit_transform([' '.join(tokens) for tokens in malicious_http['tokenized_url']])"
   ]
  },
  {
   "cell_type": "code",
   "execution_count": null,
   "id": "04907c6f-8460-4e54-8351-75a6b93f20cc",
   "metadata": {},
   "outputs": [],
   "source": [
    "original_index = malicious_http.index"
   ]
  },
  {
   "cell_type": "code",
   "execution_count": null,
   "id": "0d078902-cf62-47cb-9d92-45434ffb45fe",
   "metadata": {},
   "outputs": [],
   "source": [
    "from scipy.spatial.distance import pdist\n",
    "from scipy.cluster.hierarchy import linkage, dendrogram\n",
    "\n",
    "distances = pdist(tfidf_matrix.toarray(), metric='euclidean')\n",
    "linkage_matrix = linkage(distances, method='ward')\n",
    "\n",
    "plt.figure(figsize=(10, 5))\n",
    "dendrogram(linkage_matrix, orientation = 'top', labels=original_index, distance_sort = 'descending', show_leaf_counts = True)\n",
    "plt.title('Dendrogram')\n",
    "plt.xlabel('Index')\n",
    "plt.ylabel('Distance')\n",
    "plt.show()\n",
    "# no use, dense"
   ]
  },
  {
   "cell_type": "code",
   "execution_count": null,
   "id": "abafd9ae-f0dc-4807-9b1b-d1d7a4edaf08",
   "metadata": {},
   "outputs": [],
   "source": [
    "from sklearn.cluster import KMeans\n",
    "kmeans= KMeans(n_clusters =5)\n",
    "clusters= kmeans.fit_predict(tfidf_matrix)\n",
    "malicious_http['cluster'] = pd.Series(clusters, index = original_index)\n",
    "malicious_http['cluster']"
   ]
  },
  {
   "cell_type": "code",
   "execution_count": null,
   "id": "10906c9e-a3e5-4d5a-bf8d-24a5c3ba4d60",
   "metadata": {},
   "outputs": [],
   "source": [
    "# create a dict for the user and the cluster\n",
    "user_cluster_dict = {}\n",
    "for index, row in malicious_http.iterrows():\n",
    "    user = row['user']\n",
    "    cluster = row['cluster']\n",
    "    if cluster not in user_cluster_dict:\n",
    "        user_cluster_dict[cluster] = []\n",
    "    if user not in user_cluster_dict[cluster]:\n",
    "        user_cluster_dict[cluster].append(user)\n",
    "print(user_cluster_dict)"
   ]
  },
  {
   "cell_type": "code",
   "execution_count": null,
   "id": "658c7915-8a2a-4b73-b344-658f780c8a3d",
   "metadata": {},
   "outputs": [],
   "source": [
    "# sort the keys of the dict\n",
    "sorted_user_cluster_dict = dict(sorted(user_cluster_dict.items()))\n",
    "print(sorted_user_cluster_dict)"
   ]
  },
  {
   "cell_type": "code",
   "execution_count": null,
   "id": "08f25198-482f-4217-89b7-4a5187caa8e6",
   "metadata": {},
   "outputs": [],
   "source": [
    "# see if any cluster contains an unusual number of insiders\n",
    "insider_data = pd.read_csv('/content/drive/MyDrive/Adi-Cert-4.2/insiders.csv')\n",
    "insider_data.head()"
   ]
  },
  {
   "cell_type": "code",
   "execution_count": null,
   "id": "56c2830a-bf8e-43ad-87b1-22331e86bc5c",
   "metadata": {},
   "outputs": [],
   "source": [
    "user_insider = insider_data['user']\n",
    "user_insider.head()"
   ]
  },
  {
   "cell_type": "code",
   "execution_count": null,
   "id": "aafd528a-ff42-411c-b2cc-599eebcc3a75",
   "metadata": {},
   "outputs": [],
   "source": [
    "cluster_insider_count = {}\n",
    "for cluster, users in sorted_user_cluster_dict.items():\n",
    "    count = 0\n",
    "    for user in users:\n",
    "        if user in user_insider.values:\n",
    "            count+=1\n",
    "    cluster_insider_count[cluster] = count\n",
    "print(cluster_insider_count)\n",
    "# the number of insiders is more in cluster 1"
   ]
  },
  {
   "cell_type": "code",
   "execution_count": null,
   "id": "0023a576-fe80-45ea-a7f5-a853e49bcd00",
   "metadata": {},
   "outputs": [],
   "source": [
    "# see what percent of users is insiders in each cluster\n",
    "cluster_insider_percent = {}\n",
    "for cluster, users in sorted_user_cluster_dict.items():\n",
    "    total_users = len(users)\n",
    "    insider_count = cluster_insider_count[cluster]\n",
    "    percent = insider_count/total_users\n",
    "    cluster_insider_percent[cluster] = percent\n",
    "print(cluster_insider_percent)\n",
    "# the percentage of users who is also an insider is very less, so cant use this to conclude"
   ]
  }
 ],
 "metadata": {
  "kernelspec": {
   "display_name": "Python 3 (ipykernel)",
   "language": "python",
   "name": "python3"
  },
  "language_info": {
   "codemirror_mode": {
    "name": "ipython",
    "version": 3
   },
   "file_extension": ".py",
   "mimetype": "text/x-python",
   "name": "python",
   "nbconvert_exporter": "python",
   "pygments_lexer": "ipython3",
   "version": "3.11.6"
  }
 },
 "nbformat": 4,
 "nbformat_minor": 5
}
